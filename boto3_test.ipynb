{
 "cells": [
  {
   "cell_type": "code",
   "execution_count": 1,
   "metadata": {},
   "outputs": [
    {
     "name": "stdout",
     "output_type": "stream",
     "text": [
      "正在創建表格...\n",
      "表格創建成功！\n"
     ]
    }
   ],
   "source": [
    "import boto3\n",
    "\n",
    "# 建立 DynamoDB 資源\n",
    "dynamodb = boto3.resource('dynamodb', region_name='us-east-1')\n",
    "\n",
    "# 創建表格\n",
    "table = dynamodb.create_table(\n",
    "    TableName='boto3_test',\n",
    "    KeySchema=[\n",
    "        {'AttributeName': 'UserID', 'KeyType': 'HASH'},  # Partition Key\n",
    "        {'AttributeName': 'Attempt', 'KeyType': 'RANGE'}  # Sort Key\n",
    "    ],\n",
    "    AttributeDefinitions=[\n",
    "        {'AttributeName': 'UserID', 'AttributeType': 'S'},  # String\n",
    "        {'AttributeName': 'Attempt', 'AttributeType': 'N'},  # Number\n",
    "        {'AttributeName': 'StudentID', 'AttributeType': 'S'},  # 供 GSI 使用\n",
    "        {'AttributeName': 'Email', 'AttributeType': 'S'}  # 供 GSI 使用\n",
    "    ],\n",
    "    ProvisionedThroughput={\n",
    "        'ReadCapacityUnits': 5,\n",
    "        'WriteCapacityUnits': 5\n",
    "    },\n",
    "    GlobalSecondaryIndexes=[\n",
    "        {\n",
    "            'IndexName': 'StudentIDIndex',\n",
    "            'KeySchema': [\n",
    "                {'AttributeName': 'StudentID', 'KeyType': 'HASH'}\n",
    "            ],\n",
    "            'Projection': {'ProjectionType': 'ALL'},\n",
    "            'ProvisionedThroughput': {\n",
    "                'ReadCapacityUnits': 2,\n",
    "                'WriteCapacityUnits': 2\n",
    "            }\n",
    "        },\n",
    "        {\n",
    "            'IndexName': 'EmailIndex',\n",
    "            'KeySchema': [\n",
    "                {'AttributeName': 'Email', 'KeyType': 'HASH'}\n",
    "            ],\n",
    "            'Projection': {'ProjectionType': 'ALL'},\n",
    "            'ProvisionedThroughput': {\n",
    "                'ReadCapacityUnits': 2,\n",
    "                'WriteCapacityUnits': 2\n",
    "            }\n",
    "        }\n",
    "    ]\n",
    ")\n",
    "\n",
    "print(\"正在創建表格...\")\n",
    "table.wait_until_exists()\n",
    "print(\"表格創建成功！\")"
   ]
  },
  {
   "cell_type": "code",
   "execution_count": 4,
   "metadata": {},
   "outputs": [
    {
     "name": "stdout",
     "output_type": "stream",
     "text": [
      "數據插入成功！\n"
     ]
    }
   ],
   "source": [
    "table = dynamodb.Table('boto3_test')\n",
    "\n",
    "for i in range(10):\n",
    "    table.put_item(\n",
    "    Item={\n",
    "        'UserID': 'jlai23',\n",
    "        'Attempt': i,\n",
    "        'StudentID': 'B10601043',\n",
    "        'Email': 'b10601043@g.ntu.edu.tw'\n",
    "    }\n",
    ")\n",
    "\n",
    "print(\"數據插入成功！\")"
   ]
  },
  {
   "cell_type": "code",
   "execution_count": 5,
   "metadata": {},
   "outputs": [
    {
     "name": "stdout",
     "output_type": "stream",
     "text": [
      "數據插入成功！\n"
     ]
    }
   ],
   "source": [
    "table = dynamodb.Table('boto3_test')\n",
    "\n",
    "for i in range(100):\n",
    "    table.put_item(\n",
    "    Item={\n",
    "        'UserID': 'jlai23_ad',\n",
    "        'Attempt': i,\n",
    "        'StudentID': 'B10601043',\n",
    "        'Email': 'b10601043@g.ntu.edu.tw'\n",
    "    }\n",
    ")\n",
    "\n",
    "print(\"數據插入成功！\")"
   ]
  },
  {
   "cell_type": "code",
   "execution_count": null,
   "metadata": {},
   "outputs": [
    {
     "name": "stdout",
     "output_type": "stream",
     "text": [
      "[{'UserID': 'jlai23', 'Attempt': Decimal('0')}, {'UserID': 'jlai23', 'Attempt': Decimal('1')}, {'UserID': 'jlai23', 'Attempt': Decimal('2')}, {'UserID': 'jlai23', 'Attempt': Decimal('3')}, {'UserID': 'jlai23', 'Attempt': Decimal('4')}, {'UserID': 'jlai23', 'Attempt': Decimal('5')}, {'UserID': 'jlai23', 'Attempt': Decimal('6')}, {'UserID': 'jlai23', 'Attempt': Decimal('7')}, {'UserID': 'jlai23', 'Attempt': Decimal('8')}, {'UserID': 'jlai23', 'Attempt': Decimal('9')}]\n",
      "<class 'list'>\n"
     ]
    }
   ],
   "source": [
    "import boto3\n",
    "from boto3.dynamodb.conditions import Key\n",
    "\n",
    "# 建立 DynamoDB 資源\n",
    "dynamodb = boto3.resource('dynamodb', region_name='us-east-1')\n",
    "\n",
    "table = dynamodb.Table('boto3_test')\n",
    "\n",
    "response = table.query(\n",
    "    KeyConditionExpression=Key('UserID').eq('jlai23'),# 取得某一Partition key的table\n",
    "    ProjectionExpression='Attempt , UserID'# 想取出的欄位\n",
    ")\n",
    "\n",
    "print(response['Items'])\n",
    "print(type(response['Items']))\n"
   ]
  },
  {
   "cell_type": "code",
   "execution_count": 10,
   "metadata": {},
   "outputs": [
    {
     "name": "stdout",
     "output_type": "stream",
     "text": [
      "{'UserID': 'jlai23', 'Attempt': Decimal('0')}\n"
     ]
    }
   ],
   "source": [
    "subtable = response['Items']\n",
    "\n",
    "print(subtable[0])"
   ]
  },
  {
   "cell_type": "code",
   "execution_count": 11,
   "metadata": {},
   "outputs": [
    {
     "name": "stdout",
     "output_type": "stream",
     "text": [
      "   UserID Attempt\n",
      "0  jlai23       0\n",
      "1  jlai23       1\n",
      "2  jlai23       2\n",
      "3  jlai23       3\n",
      "4  jlai23       4\n",
      "5  jlai23       5\n",
      "6  jlai23       6\n",
      "7  jlai23       7\n",
      "8  jlai23       8\n",
      "9  jlai23       9\n"
     ]
    }
   ],
   "source": [
    "import pandas as pd\n",
    "\n",
    "df = pd.DataFrame(subtable) #　將取得的列表轉化成dataframe\n",
    "\n",
    "print(df)"
   ]
  },
  {
   "cell_type": "code",
   "execution_count": 16,
   "metadata": {},
   "outputs": [
    {
     "name": "stdout",
     "output_type": "stream",
     "text": [
      "        UserID Attempt                   Email  StudentID\n",
      "0       jlai23       0  b10601043@g.ntu.edu.tw  B10601043\n",
      "1       jlai23       1  b10601043@g.ntu.edu.tw  B10601043\n",
      "2       jlai23       2  b10601043@g.ntu.edu.tw  B10601043\n",
      "3       jlai23       3  b10601043@g.ntu.edu.tw  B10601043\n",
      "4       jlai23       4  b10601043@g.ntu.edu.tw  B10601043\n",
      "..         ...     ...                     ...        ...\n",
      "105  jlai23_ad      95  b10601043@g.ntu.edu.tw  B10601043\n",
      "106  jlai23_ad      96  b10601043@g.ntu.edu.tw  B10601043\n",
      "107  jlai23_ad      97  b10601043@g.ntu.edu.tw  B10601043\n",
      "108  jlai23_ad      98  b10601043@g.ntu.edu.tw  B10601043\n",
      "109  jlai23_ad      99  b10601043@g.ntu.edu.tw  B10601043\n",
      "\n",
      "[110 rows x 4 columns]\n"
     ]
    }
   ],
   "source": [
    "response = table.scan()\n",
    "\n",
    "whole_table = response['Items']\n",
    "\n",
    "df = pd.DataFrame(whole_table)\n",
    "\n",
    "print(df)"
   ]
  },
  {
   "cell_type": "code",
   "execution_count": 18,
   "metadata": {},
   "outputs": [
    {
     "name": "stdout",
     "output_type": "stream",
     "text": [
      "       UserID Attempt                   Email  StudentID\n",
      "0   jlai23_ad      81  b10601043@g.ntu.edu.tw  B10601043\n",
      "1   jlai23_ad      82  b10601043@g.ntu.edu.tw  B10601043\n",
      "2   jlai23_ad      83  b10601043@g.ntu.edu.tw  B10601043\n",
      "3   jlai23_ad      84  b10601043@g.ntu.edu.tw  B10601043\n",
      "4   jlai23_ad      85  b10601043@g.ntu.edu.tw  B10601043\n",
      "5   jlai23_ad      86  b10601043@g.ntu.edu.tw  B10601043\n",
      "6   jlai23_ad      87  b10601043@g.ntu.edu.tw  B10601043\n",
      "7   jlai23_ad      88  b10601043@g.ntu.edu.tw  B10601043\n",
      "8   jlai23_ad      89  b10601043@g.ntu.edu.tw  B10601043\n",
      "9   jlai23_ad      90  b10601043@g.ntu.edu.tw  B10601043\n",
      "10  jlai23_ad      91  b10601043@g.ntu.edu.tw  B10601043\n",
      "11  jlai23_ad      92  b10601043@g.ntu.edu.tw  B10601043\n",
      "12  jlai23_ad      93  b10601043@g.ntu.edu.tw  B10601043\n",
      "13  jlai23_ad      94  b10601043@g.ntu.edu.tw  B10601043\n",
      "14  jlai23_ad      95  b10601043@g.ntu.edu.tw  B10601043\n",
      "15  jlai23_ad      96  b10601043@g.ntu.edu.tw  B10601043\n",
      "16  jlai23_ad      97  b10601043@g.ntu.edu.tw  B10601043\n",
      "17  jlai23_ad      98  b10601043@g.ntu.edu.tw  B10601043\n",
      "18  jlai23_ad      99  b10601043@g.ntu.edu.tw  B10601043\n"
     ]
    }
   ],
   "source": [
    "from boto3.dynamodb.conditions import Attr\n",
    "\n",
    "table = dynamodb.Table('boto3_test')\n",
    "\n",
    "response = table.scan(\n",
    "    FilterExpression=Attr('Attempt').gt(80)  # 過濾 Attempt > 80\n",
    ")\n",
    "\n",
    "items_to_delete = response['Items']\n",
    "\n",
    "df_to_delete = pd.DataFrame(items_to_delete)\n",
    "\n",
    "print(df_to_delete)"
   ]
  },
  {
   "cell_type": "code",
   "execution_count": 20,
   "metadata": {},
   "outputs": [
    {
     "name": "stdout",
     "output_type": "stream",
     "text": [
      "       UserID Attempt                   Email  StudentID\n",
      "0      jlai23       0  b10601043@g.ntu.edu.tw  B10601043\n",
      "1      jlai23       1  b10601043@g.ntu.edu.tw  B10601043\n",
      "2      jlai23       2  b10601043@g.ntu.edu.tw  B10601043\n",
      "3      jlai23       3  b10601043@g.ntu.edu.tw  B10601043\n",
      "4      jlai23       4  b10601043@g.ntu.edu.tw  B10601043\n",
      "..        ...     ...                     ...        ...\n",
      "86  jlai23_ad      76  b10601043@g.ntu.edu.tw  B10601043\n",
      "87  jlai23_ad      77  b10601043@g.ntu.edu.tw  B10601043\n",
      "88  jlai23_ad      78  b10601043@g.ntu.edu.tw  B10601043\n",
      "89  jlai23_ad      79  b10601043@g.ntu.edu.tw  B10601043\n",
      "90  jlai23_ad      80  b10601043@g.ntu.edu.tw  B10601043\n",
      "\n",
      "[91 rows x 4 columns]\n"
     ]
    }
   ],
   "source": [
    "table = dynamodb.Table('boto3_test')\n",
    "\n",
    "for item in items_to_delete:\n",
    "    \n",
    "    table.delete_item(\n",
    "        Key = {\n",
    "            'UserID': item['UserID'],  # Partition Key\n",
    "            'Attempt': item['Attempt']  # Sort Key\n",
    "        }\n",
    "    )\n",
    "\n",
    "response = table.scan()\n",
    "\n",
    "subtable = response['Items']\n",
    "\n",
    "print(pd.DataFrame(subtable))"
   ]
  },
  {
   "cell_type": "code",
   "execution_count": 21,
   "metadata": {},
   "outputs": [
    {
     "data": {
      "text/plain": [
       "{'TableDescription': {'TableName': 'boto3_test',\n",
       "  'TableStatus': 'DELETING',\n",
       "  'ProvisionedThroughput': {'NumberOfDecreasesToday': 0,\n",
       "   'ReadCapacityUnits': 5,\n",
       "   'WriteCapacityUnits': 5},\n",
       "  'TableSizeBytes': 0,\n",
       "  'ItemCount': 0,\n",
       "  'TableArn': 'arn:aws:dynamodb:us-east-1:159761224094:table/boto3_test',\n",
       "  'TableId': '3533c168-a0dd-4c9b-bf43-076e7885c74e',\n",
       "  'DeletionProtectionEnabled': False},\n",
       " 'ResponseMetadata': {'RequestId': 'J50GCMNEVP2JMH059TSUIN6P43VV4KQNSO5AEMVJF66Q9ASUAAJG',\n",
       "  'HTTPStatusCode': 200,\n",
       "  'HTTPHeaders': {'server': 'Server',\n",
       "   'date': 'Sat, 22 Mar 2025 08:43:39 GMT',\n",
       "   'content-type': 'application/x-amz-json-1.0',\n",
       "   'content-length': '356',\n",
       "   'connection': 'keep-alive',\n",
       "   'x-amzn-requestid': 'J50GCMNEVP2JMH059TSUIN6P43VV4KQNSO5AEMVJF66Q9ASUAAJG',\n",
       "   'x-amz-crc32': '3708051704'},\n",
       "  'RetryAttempts': 0}}"
      ]
     },
     "execution_count": 21,
     "metadata": {},
     "output_type": "execute_result"
    }
   ],
   "source": [
    "# 刪除表格\n",
    "table.delete()"
   ]
  }
 ],
 "metadata": {
  "kernelspec": {
   "display_name": "Python 3",
   "language": "python",
   "name": "python3"
  },
  "language_info": {
   "codemirror_mode": {
    "name": "ipython",
    "version": 3
   },
   "file_extension": ".py",
   "mimetype": "text/x-python",
   "name": "python",
   "nbconvert_exporter": "python",
   "pygments_lexer": "ipython3",
   "version": "3.13.2"
  }
 },
 "nbformat": 4,
 "nbformat_minor": 2
}
