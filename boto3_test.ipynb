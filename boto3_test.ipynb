{
 "cells": [
  {
   "cell_type": "code",
   "execution_count": 1,
   "metadata": {},
   "outputs": [
    {
     "name": "stdout",
     "output_type": "stream",
     "text": [
      "正在創建表格...\n",
      "表格創建成功！\n"
     ]
    }
   ],
   "source": [
    "import boto3\n",
    "\n",
    "# 建立 DynamoDB 資源\n",
    "dynamodb = boto3.resource('dynamodb', region_name='us-east-1')\n",
    "\n",
    "# 創建表格\n",
    "table = dynamodb.create_table(\n",
    "    TableName='boto3_test',\n",
    "    KeySchema=[\n",
    "        {'AttributeName': 'UserID', 'KeyType': 'HASH'},  # Partition Key\n",
    "        {'AttributeName': 'Attempt', 'KeyType': 'RANGE'}  # Sort Key\n",
    "    ],\n",
    "    AttributeDefinitions=[\n",
    "        {'AttributeName': 'UserID', 'AttributeType': 'S'},  # String\n",
    "        {'AttributeName': 'Attempt', 'AttributeType': 'N'},  # Number\n",
    "        {'AttributeName': 'StudentID', 'AttributeType': 'S'},  # 供 GSI 使用\n",
    "        {'AttributeName': 'Email', 'AttributeType': 'S'}  # 供 GSI 使用\n",
    "    ],\n",
    "    ProvisionedThroughput={\n",
    "        'ReadCapacityUnits': 5,\n",
    "        'WriteCapacityUnits': 5\n",
    "    },\n",
    "    GlobalSecondaryIndexes=[\n",
    "        {\n",
    "            'IndexName': 'StudentIDIndex',\n",
    "            'KeySchema': [\n",
    "                {'AttributeName': 'StudentID', 'KeyType': 'HASH'}\n",
    "            ],\n",
    "            'Projection': {'ProjectionType': 'ALL'},\n",
    "            'ProvisionedThroughput': {\n",
    "                'ReadCapacityUnits': 2,\n",
    "                'WriteCapacityUnits': 2\n",
    "            }\n",
    "        },\n",
    "        {\n",
    "            'IndexName': 'EmailIndex',\n",
    "            'KeySchema': [\n",
    "                {'AttributeName': 'Email', 'KeyType': 'HASH'}\n",
    "            ],\n",
    "            'Projection': {'ProjectionType': 'ALL'},\n",
    "            'ProvisionedThroughput': {\n",
    "                'ReadCapacityUnits': 2,\n",
    "                'WriteCapacityUnits': 2\n",
    "            }\n",
    "        }\n",
    "    ]\n",
    ")\n",
    "\n",
    "print(\"正在創建表格...\")\n",
    "table.wait_until_exists()\n",
    "print(\"表格創建成功！\")"
   ]
  },
  {
   "cell_type": "code",
   "execution_count": 4,
   "metadata": {},
   "outputs": [
    {
     "name": "stdout",
     "output_type": "stream",
     "text": [
      "數據插入成功！\n"
     ]
    }
   ],
   "source": [
    "table = dynamodb.Table('boto3_test')\n",
    "\n",
    "for i in range(10):\n",
    "    table.put_item(\n",
    "    Item={\n",
    "        'UserID': 'jlai23',\n",
    "        'Attempt': i,\n",
    "        'StudentID': 'B10601043',\n",
    "        'Email': 'b10601043@g.ntu.edu.tw'\n",
    "    }\n",
    ")\n",
    "\n",
    "print(\"數據插入成功！\")"
   ]
  },
  {
   "cell_type": "code",
   "execution_count": 5,
   "metadata": {},
   "outputs": [
    {
     "name": "stdout",
     "output_type": "stream",
     "text": [
      "數據插入成功！\n"
     ]
    }
   ],
   "source": [
    "table = dynamodb.Table('boto3_test')\n",
    "\n",
    "for i in range(100):\n",
    "    table.put_item(\n",
    "    Item={\n",
    "        'UserID': 'jlai23_ad',\n",
    "        'Attempt': i,\n",
    "        'StudentID': 'B10601043',\n",
    "        'Email': 'b10601043@g.ntu.edu.tw'\n",
    "    }\n",
    ")\n",
    "\n",
    "print(\"數據插入成功！\")"
   ]
  },
  {
   "cell_type": "code",
   "execution_count": 13,
   "metadata": {},
   "outputs": [
    {
     "name": "stdout",
     "output_type": "stream",
     "text": [
      "[{'Attempt': Decimal('0')}, {'Attempt': Decimal('1')}, {'Attempt': Decimal('2')}, {'Attempt': Decimal('3')}, {'Attempt': Decimal('4')}, {'Attempt': Decimal('5')}, {'Attempt': Decimal('6')}, {'Attempt': Decimal('7')}, {'Attempt': Decimal('8')}, {'Attempt': Decimal('9')}]\n",
      "<class 'list'>\n"
     ]
    }
   ],
   "source": [
    "from boto3.dynamodb.conditions import Key\n",
    "\n",
    "response = table.query(\n",
    "    KeyConditionExpression=Key('UserID').eq('jlai23'),\n",
    "    ProjectionExpression='Attempt'  # 只取得 Attempt 欄位\n",
    ")\n",
    "\n",
    "print(response['Items'])\n",
    "print(type(response['Items']))\n"
   ]
  },
  {
   "cell_type": "code",
   "execution_count": 15,
   "metadata": {},
   "outputs": [
    {
     "name": "stdout",
     "output_type": "stream",
     "text": [
      "0\n"
     ]
    }
   ],
   "source": [
    "attempts = response['Items']\n",
    "\n",
    "print(attempts[0]['Attempt'])"
   ]
  }
 ],
 "metadata": {
  "kernelspec": {
   "display_name": "Python 3",
   "language": "python",
   "name": "python3"
  },
  "language_info": {
   "codemirror_mode": {
    "name": "ipython",
    "version": 3
   },
   "file_extension": ".py",
   "mimetype": "text/x-python",
   "name": "python",
   "nbconvert_exporter": "python",
   "pygments_lexer": "ipython3",
   "version": "3.13.2"
  }
 },
 "nbformat": 4,
 "nbformat_minor": 2
}
