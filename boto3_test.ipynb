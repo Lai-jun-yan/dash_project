{
 "cells": [
  {
   "cell_type": "code",
   "execution_count": 1,
   "metadata": {},
   "outputs": [
    {
     "name": "stdout",
     "output_type": "stream",
     "text": [
      "正在創建表格...\n",
      "表格創建成功！\n"
     ]
    }
   ],
   "source": [
    "import boto3\n",
    "\n",
    "# 建立 DynamoDB 資源\n",
    "dynamodb = boto3.resource('dynamodb', region_name='us-east-1')\n",
    "\n",
    "# 創建表格\n",
    "table = dynamodb.create_table(\n",
    "    TableName='boto3_test',\n",
    "    KeySchema=[\n",
    "        {'AttributeName': 'UserID', 'KeyType': 'HASH'},  # Partition Key\n",
    "        {'AttributeName': 'Attempt', 'KeyType': 'RANGE'}  # Sort Key\n",
    "    ],\n",
    "    AttributeDefinitions=[\n",
    "        {'AttributeName': 'UserID', 'AttributeType': 'S'},  # String\n",
    "        {'AttributeName': 'Attempt', 'AttributeType': 'N'},  # Number\n",
    "        {'AttributeName': 'StudentID', 'AttributeType': 'S'},  # 供 GSI 使用\n",
    "        {'AttributeName': 'Email', 'AttributeType': 'S'}  # 供 GSI 使用\n",
    "    ],\n",
    "    ProvisionedThroughput={\n",
    "        'ReadCapacityUnits': 5,\n",
    "        'WriteCapacityUnits': 5\n",
    "    },\n",
    "    GlobalSecondaryIndexes=[\n",
    "        {\n",
    "            'IndexName': 'StudentIDIndex',\n",
    "            'KeySchema': [\n",
    "                {'AttributeName': 'StudentID', 'KeyType': 'HASH'}\n",
    "            ],\n",
    "            'Projection': {'ProjectionType': 'ALL'},\n",
    "            'ProvisionedThroughput': {\n",
    "                'ReadCapacityUnits': 2,\n",
    "                'WriteCapacityUnits': 2\n",
    "            }\n",
    "        },\n",
    "        {\n",
    "            'IndexName': 'EmailIndex',\n",
    "            'KeySchema': [\n",
    "                {'AttributeName': 'Email', 'KeyType': 'HASH'}\n",
    "            ],\n",
    "            'Projection': {'ProjectionType': 'ALL'},\n",
    "            'ProvisionedThroughput': {\n",
    "                'ReadCapacityUnits': 2,\n",
    "                'WriteCapacityUnits': 2\n",
    "            }\n",
    "        }\n",
    "    ]\n",
    ")\n",
    "\n",
    "print(\"正在創建表格...\")\n",
    "table.wait_until_exists()\n",
    "print(\"表格創建成功！\")"
   ]
  },
  {
   "cell_type": "code",
   "execution_count": 4,
   "metadata": {},
   "outputs": [
    {
     "name": "stdout",
     "output_type": "stream",
     "text": [
      "數據插入成功！\n"
     ]
    }
   ],
   "source": [
    "table = dynamodb.Table('boto3_test')\n",
    "\n",
    "for i in range(10):\n",
    "    table.put_item(\n",
    "    Item={\n",
    "        'UserID': 'jlai23',\n",
    "        'Attempt': i,\n",
    "        'StudentID': 'B10601043',\n",
    "        'Email': 'b10601043@g.ntu.edu.tw'\n",
    "    }\n",
    ")\n",
    "\n",
    "print(\"數據插入成功！\")"
   ]
  },
  {
   "cell_type": "code",
   "execution_count": 5,
   "metadata": {},
   "outputs": [
    {
     "name": "stdout",
     "output_type": "stream",
     "text": [
      "數據插入成功！\n"
     ]
    }
   ],
   "source": [
    "table = dynamodb.Table('boto3_test')\n",
    "\n",
    "for i in range(100):\n",
    "    table.put_item(\n",
    "    Item={\n",
    "        'UserID': 'jlai23_ad',\n",
    "        'Attempt': i,\n",
    "        'StudentID': 'B10601043',\n",
    "        'Email': 'b10601043@g.ntu.edu.tw'\n",
    "    }\n",
    ")\n",
    "\n",
    "print(\"數據插入成功！\")"
   ]
  },
  {
   "cell_type": "code",
   "execution_count": null,
   "metadata": {},
   "outputs": [
    {
     "name": "stdout",
     "output_type": "stream",
     "text": [
      "[{'UserID': 'jlai23', 'Attempt': Decimal('0')}, {'UserID': 'jlai23', 'Attempt': Decimal('1')}, {'UserID': 'jlai23', 'Attempt': Decimal('2')}, {'UserID': 'jlai23', 'Attempt': Decimal('3')}, {'UserID': 'jlai23', 'Attempt': Decimal('4')}, {'UserID': 'jlai23', 'Attempt': Decimal('5')}, {'UserID': 'jlai23', 'Attempt': Decimal('6')}, {'UserID': 'jlai23', 'Attempt': Decimal('7')}, {'UserID': 'jlai23', 'Attempt': Decimal('8')}, {'UserID': 'jlai23', 'Attempt': Decimal('9')}]\n",
      "<class 'list'>\n"
     ]
    }
   ],
   "source": [
    "import boto3\n",
    "from boto3.dynamodb.conditions import Key\n",
    "\n",
    "# 建立 DynamoDB 資源\n",
    "dynamodb = boto3.resource('dynamodb', region_name='us-east-1')\n",
    "\n",
    "table = dynamodb.Table('boto3_test')\n",
    "\n",
    "response = table.query(\n",
    "    KeyConditionExpression=Key('UserID').eq('jlai23'),# 取得某一Partition key的table\n",
    "    ProjectionExpression='Attempt , UserID'# 想取出的欄位\n",
    ")\n",
    "\n",
    "print(response['Items'])\n",
    "print(type(response['Items']))\n"
   ]
  },
  {
   "cell_type": "code",
   "execution_count": 10,
   "metadata": {},
   "outputs": [
    {
     "name": "stdout",
     "output_type": "stream",
     "text": [
      "{'UserID': 'jlai23', 'Attempt': Decimal('0')}\n"
     ]
    }
   ],
   "source": [
    "subtable = response['Items']\n",
    "\n",
    "print(subtable[0])"
   ]
  },
  {
   "cell_type": "code",
   "execution_count": 11,
   "metadata": {},
   "outputs": [
    {
     "name": "stdout",
     "output_type": "stream",
     "text": [
      "   UserID Attempt\n",
      "0  jlai23       0\n",
      "1  jlai23       1\n",
      "2  jlai23       2\n",
      "3  jlai23       3\n",
      "4  jlai23       4\n",
      "5  jlai23       5\n",
      "6  jlai23       6\n",
      "7  jlai23       7\n",
      "8  jlai23       8\n",
      "9  jlai23       9\n"
     ]
    }
   ],
   "source": [
    "import pandas as pd\n",
    "\n",
    "df = pd.DataFrame(subtable) #　將取得的列表轉化成dataframe\n",
    "\n",
    "print(df)"
   ]
  },
  {
   "cell_type": "code",
   "execution_count": 16,
   "metadata": {},
   "outputs": [
    {
     "name": "stdout",
     "output_type": "stream",
     "text": [
      "        UserID Attempt                   Email  StudentID\n",
      "0       jlai23       0  b10601043@g.ntu.edu.tw  B10601043\n",
      "1       jlai23       1  b10601043@g.ntu.edu.tw  B10601043\n",
      "2       jlai23       2  b10601043@g.ntu.edu.tw  B10601043\n",
      "3       jlai23       3  b10601043@g.ntu.edu.tw  B10601043\n",
      "4       jlai23       4  b10601043@g.ntu.edu.tw  B10601043\n",
      "..         ...     ...                     ...        ...\n",
      "105  jlai23_ad      95  b10601043@g.ntu.edu.tw  B10601043\n",
      "106  jlai23_ad      96  b10601043@g.ntu.edu.tw  B10601043\n",
      "107  jlai23_ad      97  b10601043@g.ntu.edu.tw  B10601043\n",
      "108  jlai23_ad      98  b10601043@g.ntu.edu.tw  B10601043\n",
      "109  jlai23_ad      99  b10601043@g.ntu.edu.tw  B10601043\n",
      "\n",
      "[110 rows x 4 columns]\n"
     ]
    }
   ],
   "source": [
    "response = table.scan()\n",
    "\n",
    "whole_table = response['Items']\n",
    "\n",
    "df = pd.DataFrame(whole_table)\n",
    "\n",
    "print(df)"
   ]
  },
  {
   "cell_type": "code",
   "execution_count": 18,
   "metadata": {},
   "outputs": [
    {
     "name": "stdout",
     "output_type": "stream",
     "text": [
      "       UserID Attempt                   Email  StudentID\n",
      "0   jlai23_ad      81  b10601043@g.ntu.edu.tw  B10601043\n",
      "1   jlai23_ad      82  b10601043@g.ntu.edu.tw  B10601043\n",
      "2   jlai23_ad      83  b10601043@g.ntu.edu.tw  B10601043\n",
      "3   jlai23_ad      84  b10601043@g.ntu.edu.tw  B10601043\n",
      "4   jlai23_ad      85  b10601043@g.ntu.edu.tw  B10601043\n",
      "5   jlai23_ad      86  b10601043@g.ntu.edu.tw  B10601043\n",
      "6   jlai23_ad      87  b10601043@g.ntu.edu.tw  B10601043\n",
      "7   jlai23_ad      88  b10601043@g.ntu.edu.tw  B10601043\n",
      "8   jlai23_ad      89  b10601043@g.ntu.edu.tw  B10601043\n",
      "9   jlai23_ad      90  b10601043@g.ntu.edu.tw  B10601043\n",
      "10  jlai23_ad      91  b10601043@g.ntu.edu.tw  B10601043\n",
      "11  jlai23_ad      92  b10601043@g.ntu.edu.tw  B10601043\n",
      "12  jlai23_ad      93  b10601043@g.ntu.edu.tw  B10601043\n",
      "13  jlai23_ad      94  b10601043@g.ntu.edu.tw  B10601043\n",
      "14  jlai23_ad      95  b10601043@g.ntu.edu.tw  B10601043\n",
      "15  jlai23_ad      96  b10601043@g.ntu.edu.tw  B10601043\n",
      "16  jlai23_ad      97  b10601043@g.ntu.edu.tw  B10601043\n",
      "17  jlai23_ad      98  b10601043@g.ntu.edu.tw  B10601043\n",
      "18  jlai23_ad      99  b10601043@g.ntu.edu.tw  B10601043\n"
     ]
    }
   ],
   "source": [
    "from boto3.dynamodb.conditions import Attr\n",
    "\n",
    "table = dynamodb.Table('boto3_test')\n",
    "\n",
    "response = table.scan(\n",
    "    FilterExpression=Attr('Attempt').gt(80)  # 過濾 Attempt > 80\n",
    ")\n",
    "\n",
    "items_to_delete = response['Items']\n",
    "\n",
    "df_to_delete = pd.DataFrame(items_to_delete)\n",
    "\n",
    "print(df_to_delete)"
   ]
  },
  {
   "cell_type": "code",
   "execution_count": 20,
   "metadata": {},
   "outputs": [
    {
     "name": "stdout",
     "output_type": "stream",
     "text": [
      "       UserID Attempt                   Email  StudentID\n",
      "0      jlai23       0  b10601043@g.ntu.edu.tw  B10601043\n",
      "1      jlai23       1  b10601043@g.ntu.edu.tw  B10601043\n",
      "2      jlai23       2  b10601043@g.ntu.edu.tw  B10601043\n",
      "3      jlai23       3  b10601043@g.ntu.edu.tw  B10601043\n",
      "4      jlai23       4  b10601043@g.ntu.edu.tw  B10601043\n",
      "..        ...     ...                     ...        ...\n",
      "86  jlai23_ad      76  b10601043@g.ntu.edu.tw  B10601043\n",
      "87  jlai23_ad      77  b10601043@g.ntu.edu.tw  B10601043\n",
      "88  jlai23_ad      78  b10601043@g.ntu.edu.tw  B10601043\n",
      "89  jlai23_ad      79  b10601043@g.ntu.edu.tw  B10601043\n",
      "90  jlai23_ad      80  b10601043@g.ntu.edu.tw  B10601043\n",
      "\n",
      "[91 rows x 4 columns]\n"
     ]
    }
   ],
   "source": [
    "table = dynamodb.Table('boto3_test')\n",
    "\n",
    "for item in items_to_delete:\n",
    "    \n",
    "    table.delete_item(\n",
    "        Key = {\n",
    "            'UserID': item['UserID'],  # Partition Key\n",
    "            'Attempt': item['Attempt']  # Sort Key\n",
    "        }\n",
    "    )\n",
    "\n",
    "response = table.scan()\n",
    "\n",
    "subtable = response['Items']\n",
    "\n",
    "print(pd.DataFrame(subtable))"
   ]
  },
  {
   "cell_type": "code",
   "execution_count": 21,
   "metadata": {},
   "outputs": [
    {
     "data": {
      "text/plain": [
       "{'TableDescription': {'TableName': 'boto3_test',\n",
       "  'TableStatus': 'DELETING',\n",
       "  'ProvisionedThroughput': {'NumberOfDecreasesToday': 0,\n",
       "   'ReadCapacityUnits': 5,\n",
       "   'WriteCapacityUnits': 5},\n",
       "  'TableSizeBytes': 0,\n",
       "  'ItemCount': 0,\n",
       "  'TableArn': 'arn:aws:dynamodb:us-east-1:159761224094:table/boto3_test',\n",
       "  'TableId': '3533c168-a0dd-4c9b-bf43-076e7885c74e',\n",
       "  'DeletionProtectionEnabled': False},\n",
       " 'ResponseMetadata': {'RequestId': 'J50GCMNEVP2JMH059TSUIN6P43VV4KQNSO5AEMVJF66Q9ASUAAJG',\n",
       "  'HTTPStatusCode': 200,\n",
       "  'HTTPHeaders': {'server': 'Server',\n",
       "   'date': 'Sat, 22 Mar 2025 08:43:39 GMT',\n",
       "   'content-type': 'application/x-amz-json-1.0',\n",
       "   'content-length': '356',\n",
       "   'connection': 'keep-alive',\n",
       "   'x-amzn-requestid': 'J50GCMNEVP2JMH059TSUIN6P43VV4KQNSO5AEMVJF66Q9ASUAAJG',\n",
       "   'x-amz-crc32': '3708051704'},\n",
       "  'RetryAttempts': 0}}"
      ]
     },
     "execution_count": 21,
     "metadata": {},
     "output_type": "execute_result"
    }
   ],
   "source": [
    "# 刪除表格\n",
    "table.delete()"
   ]
  },
  {
   "cell_type": "code",
   "execution_count": 37,
   "metadata": {},
   "outputs": [
    {
     "name": "stdout",
     "output_type": "stream",
     "text": [
      "variety\n"
     ]
    }
   ],
   "source": [
    "import pandas as pd\n",
    "\n",
    "# 讀取 CSV 檔案\n",
    "df = pd.read_csv(\"rice_growth_template.csv\")\n",
    "\n",
    "print(df.columns.tolist()[0])"
   ]
  },
  {
   "cell_type": "code",
   "execution_count": null,
   "metadata": {},
   "outputs": [
    {
     "ename": "ClientError",
     "evalue": "An error occurred (ValidationException) when calling the CreateTable operation: One or more parameter values were invalid: Number of attributes in KeySchema does not exactly match number of attributes defined in AttributeDefinitions",
     "output_type": "error",
     "traceback": [
      "\u001b[31m---------------------------------------------------------------------------\u001b[39m",
      "\u001b[31mClientError\u001b[39m                               Traceback (most recent call last)",
      "\u001b[36mCell\u001b[39m\u001b[36m \u001b[39m\u001b[32mIn[38]\u001b[39m\u001b[32m, line 10\u001b[39m\n\u001b[32m      7\u001b[39m Sort_Key = df.columns.tolist()[\u001b[32m1\u001b[39m]\n\u001b[32m      9\u001b[39m \u001b[38;5;66;03m# 創建表格\u001b[39;00m\n\u001b[32m---> \u001b[39m\u001b[32m10\u001b[39m table = \u001b[43mdynamodb\u001b[49m\u001b[43m.\u001b[49m\u001b[43mcreate_table\u001b[49m\u001b[43m(\u001b[49m\n\u001b[32m     11\u001b[39m \u001b[43m    \u001b[49m\u001b[43mTableName\u001b[49m\u001b[43m=\u001b[49m\u001b[33;43m'\u001b[39;49m\u001b[33;43mrice_growth_template\u001b[39;49m\u001b[33;43m'\u001b[39;49m\u001b[43m,\u001b[49m\n\u001b[32m     12\u001b[39m \u001b[43m    \u001b[49m\u001b[43mKeySchema\u001b[49m\u001b[43m=\u001b[49m\u001b[43m[\u001b[49m\n\u001b[32m     13\u001b[39m \u001b[43m        \u001b[49m\u001b[43m{\u001b[49m\u001b[33;43m'\u001b[39;49m\u001b[33;43mAttributeName\u001b[39;49m\u001b[33;43m'\u001b[39;49m\u001b[43m:\u001b[49m\u001b[43m \u001b[49m\u001b[43mPartition_Key\u001b[49m\u001b[43m,\u001b[49m\u001b[43m \u001b[49m\u001b[33;43m'\u001b[39;49m\u001b[33;43mKeyType\u001b[39;49m\u001b[33;43m'\u001b[39;49m\u001b[43m:\u001b[49m\u001b[43m \u001b[49m\u001b[33;43m'\u001b[39;49m\u001b[33;43mHASH\u001b[39;49m\u001b[33;43m'\u001b[39;49m\u001b[43m}\u001b[49m\u001b[43m,\u001b[49m\u001b[43m  \u001b[49m\u001b[38;5;66;43;03m# Partition Key\u001b[39;49;00m\n\u001b[32m     14\u001b[39m \u001b[43m        \u001b[49m\u001b[43m{\u001b[49m\u001b[33;43m'\u001b[39;49m\u001b[33;43mAttributeName\u001b[39;49m\u001b[33;43m'\u001b[39;49m\u001b[43m:\u001b[49m\u001b[43m \u001b[49m\u001b[43mSort_Key\u001b[49m\u001b[43m,\u001b[49m\u001b[43m \u001b[49m\u001b[33;43m'\u001b[39;49m\u001b[33;43mKeyType\u001b[39;49m\u001b[33;43m'\u001b[39;49m\u001b[43m:\u001b[49m\u001b[43m \u001b[49m\u001b[33;43m'\u001b[39;49m\u001b[33;43mRANGE\u001b[39;49m\u001b[33;43m'\u001b[39;49m\u001b[43m}\u001b[49m\u001b[43m  \u001b[49m\u001b[38;5;66;43;03m# Sort Key\u001b[39;49;00m\n\u001b[32m     15\u001b[39m \u001b[43m    \u001b[49m\u001b[43m]\u001b[49m\u001b[43m,\u001b[49m\n\u001b[32m     16\u001b[39m \u001b[43m    \u001b[49m\u001b[43mAttributeDefinitions\u001b[49m\u001b[43m=\u001b[49m\u001b[43m[\u001b[49m\n\u001b[32m     17\u001b[39m \u001b[43m        \u001b[49m\u001b[43m{\u001b[49m\u001b[33;43m'\u001b[39;49m\u001b[33;43mAttributeName\u001b[39;49m\u001b[33;43m'\u001b[39;49m\u001b[43m:\u001b[49m\u001b[43m \u001b[49m\u001b[43mPartition_Key\u001b[49m\u001b[43m,\u001b[49m\u001b[43m \u001b[49m\u001b[33;43m'\u001b[39;49m\u001b[33;43mAttributeType\u001b[39;49m\u001b[33;43m'\u001b[39;49m\u001b[43m:\u001b[49m\u001b[43m \u001b[49m\u001b[33;43m'\u001b[39;49m\u001b[33;43mS\u001b[39;49m\u001b[33;43m'\u001b[39;49m\u001b[43m}\u001b[49m\u001b[43m,\u001b[49m\u001b[43m  \u001b[49m\u001b[38;5;66;43;03m# String\u001b[39;49;00m\n\u001b[32m     18\u001b[39m \u001b[43m        \u001b[49m\u001b[43m{\u001b[49m\u001b[33;43m'\u001b[39;49m\u001b[33;43mAttributeName\u001b[39;49m\u001b[33;43m'\u001b[39;49m\u001b[43m:\u001b[49m\u001b[43m \u001b[49m\u001b[43mSort_Key\u001b[49m\u001b[43m,\u001b[49m\u001b[43m \u001b[49m\u001b[33;43m'\u001b[39;49m\u001b[33;43mAttributeType\u001b[39;49m\u001b[33;43m'\u001b[39;49m\u001b[43m:\u001b[49m\u001b[43m \u001b[49m\u001b[33;43m'\u001b[39;49m\u001b[33;43mN\u001b[39;49m\u001b[33;43m'\u001b[39;49m\u001b[43m}\u001b[49m\u001b[43m,\u001b[49m\u001b[43m  \u001b[49m\u001b[38;5;66;43;03m# Number\u001b[39;49;00m\n\u001b[32m     19\u001b[39m \u001b[43m        \u001b[49m\u001b[43m{\u001b[49m\u001b[33;43m'\u001b[39;49m\u001b[33;43mAttributeName\u001b[39;49m\u001b[33;43m'\u001b[39;49m\u001b[43m:\u001b[49m\u001b[43m \u001b[49m\u001b[43mdf\u001b[49m\u001b[43m.\u001b[49m\u001b[43mcolumns\u001b[49m\u001b[43m.\u001b[49m\u001b[43mtolist\u001b[49m\u001b[43m(\u001b[49m\u001b[43m)\u001b[49m\u001b[43m[\u001b[49m\u001b[32;43m2\u001b[39;49m\u001b[43m]\u001b[49m\u001b[43m,\u001b[49m\u001b[43m \u001b[49m\u001b[33;43m'\u001b[39;49m\u001b[33;43mAttributeType\u001b[39;49m\u001b[33;43m'\u001b[39;49m\u001b[43m:\u001b[49m\u001b[43m \u001b[49m\u001b[33;43m'\u001b[39;49m\u001b[33;43mN\u001b[39;49m\u001b[33;43m'\u001b[39;49m\u001b[43m}\u001b[49m\u001b[43m,\u001b[49m\u001b[43m  \u001b[49m\n\u001b[32m     20\u001b[39m \u001b[43m        \u001b[49m\u001b[43m{\u001b[49m\u001b[33;43m'\u001b[39;49m\u001b[33;43mAttributeName\u001b[39;49m\u001b[33;43m'\u001b[39;49m\u001b[43m:\u001b[49m\u001b[43m \u001b[49m\u001b[43mdf\u001b[49m\u001b[43m.\u001b[49m\u001b[43mcolumns\u001b[49m\u001b[43m.\u001b[49m\u001b[43mtolist\u001b[49m\u001b[43m(\u001b[49m\u001b[43m)\u001b[49m\u001b[43m[\u001b[49m\u001b[32;43m3\u001b[39;49m\u001b[43m]\u001b[49m\u001b[43m,\u001b[49m\u001b[43m \u001b[49m\u001b[33;43m'\u001b[39;49m\u001b[33;43mAttributeType\u001b[39;49m\u001b[33;43m'\u001b[39;49m\u001b[43m:\u001b[49m\u001b[33;43m'\u001b[39;49m\u001b[33;43mN\u001b[39;49m\u001b[33;43m'\u001b[39;49m\u001b[43m}\u001b[49m\u001b[43m,\u001b[49m\n\u001b[32m     21\u001b[39m \u001b[43m        \u001b[49m\u001b[43m{\u001b[49m\u001b[33;43m'\u001b[39;49m\u001b[33;43mAttributeName\u001b[39;49m\u001b[33;43m'\u001b[39;49m\u001b[43m:\u001b[49m\u001b[43m \u001b[49m\u001b[43mdf\u001b[49m\u001b[43m.\u001b[49m\u001b[43mcolumns\u001b[49m\u001b[43m.\u001b[49m\u001b[43mtolist\u001b[49m\u001b[43m(\u001b[49m\u001b[43m)\u001b[49m\u001b[43m[\u001b[49m\u001b[32;43m4\u001b[39;49m\u001b[43m]\u001b[49m\u001b[43m,\u001b[49m\u001b[43m \u001b[49m\u001b[33;43m'\u001b[39;49m\u001b[33;43mAttributeType\u001b[39;49m\u001b[33;43m'\u001b[39;49m\u001b[43m:\u001b[49m\u001b[33;43m'\u001b[39;49m\u001b[33;43mN\u001b[39;49m\u001b[33;43m'\u001b[39;49m\u001b[43m}\u001b[49m\n\u001b[32m     22\u001b[39m \u001b[43m    \u001b[49m\u001b[43m]\u001b[49m\u001b[43m,\u001b[49m\n\u001b[32m     23\u001b[39m \u001b[43m    \u001b[49m\u001b[43mProvisionedThroughput\u001b[49m\u001b[43m=\u001b[49m\u001b[43m{\u001b[49m\n\u001b[32m     24\u001b[39m \u001b[43m        \u001b[49m\u001b[33;43m'\u001b[39;49m\u001b[33;43mReadCapacityUnits\u001b[39;49m\u001b[33;43m'\u001b[39;49m\u001b[43m:\u001b[49m\u001b[43m \u001b[49m\u001b[32;43m5\u001b[39;49m\u001b[43m,\u001b[49m\n\u001b[32m     25\u001b[39m \u001b[43m        \u001b[49m\u001b[33;43m'\u001b[39;49m\u001b[33;43mWriteCapacityUnits\u001b[39;49m\u001b[33;43m'\u001b[39;49m\u001b[43m:\u001b[49m\u001b[43m \u001b[49m\u001b[32;43m5\u001b[39;49m\n\u001b[32m     26\u001b[39m \u001b[43m    \u001b[49m\u001b[43m}\u001b[49m\n\u001b[32m     27\u001b[39m \u001b[43m)\u001b[49m\n",
      "\u001b[36mFile \u001b[39m\u001b[32mc:\\Users\\jlai23_ad\\AppData\\Local\\Programs\\Python\\Python313\\Lib\\site-packages\\boto3\\resources\\factory.py:581\u001b[39m, in \u001b[36mResourceFactory._create_action.<locals>.do_action\u001b[39m\u001b[34m(self, *args, **kwargs)\u001b[39m\n\u001b[32m    580\u001b[39m \u001b[38;5;28;01mdef\u001b[39;00m\u001b[38;5;250m \u001b[39m\u001b[34mdo_action\u001b[39m(\u001b[38;5;28mself\u001b[39m, *args, **kwargs):\n\u001b[32m--> \u001b[39m\u001b[32m581\u001b[39m     response = \u001b[43maction\u001b[49m\u001b[43m(\u001b[49m\u001b[38;5;28;43mself\u001b[39;49m\u001b[43m,\u001b[49m\u001b[43m \u001b[49m\u001b[43m*\u001b[49m\u001b[43margs\u001b[49m\u001b[43m,\u001b[49m\u001b[43m \u001b[49m\u001b[43m*\u001b[49m\u001b[43m*\u001b[49m\u001b[43mkwargs\u001b[49m\u001b[43m)\u001b[49m\n\u001b[32m    583\u001b[39m     \u001b[38;5;28;01mif\u001b[39;00m \u001b[38;5;28mhasattr\u001b[39m(\u001b[38;5;28mself\u001b[39m, \u001b[33m'\u001b[39m\u001b[33mload\u001b[39m\u001b[33m'\u001b[39m):\n\u001b[32m    584\u001b[39m         \u001b[38;5;66;03m# Clear cached data. It will be reloaded the next\u001b[39;00m\n\u001b[32m    585\u001b[39m         \u001b[38;5;66;03m# time that an attribute is accessed.\u001b[39;00m\n\u001b[32m    586\u001b[39m         \u001b[38;5;66;03m# TODO: Make this configurable in the future?\u001b[39;00m\n\u001b[32m    587\u001b[39m         \u001b[38;5;28mself\u001b[39m.meta.data = \u001b[38;5;28;01mNone\u001b[39;00m\n",
      "\u001b[36mFile \u001b[39m\u001b[32mc:\\Users\\jlai23_ad\\AppData\\Local\\Programs\\Python\\Python313\\Lib\\site-packages\\boto3\\resources\\action.py:88\u001b[39m, in \u001b[36mServiceAction.__call__\u001b[39m\u001b[34m(self, parent, *args, **kwargs)\u001b[39m\n\u001b[32m     79\u001b[39m params.update(kwargs)\n\u001b[32m     81\u001b[39m logger.debug(\n\u001b[32m     82\u001b[39m     \u001b[33m'\u001b[39m\u001b[33mCalling \u001b[39m\u001b[38;5;132;01m%s\u001b[39;00m\u001b[33m:\u001b[39m\u001b[38;5;132;01m%s\u001b[39;00m\u001b[33m with \u001b[39m\u001b[38;5;132;01m%r\u001b[39;00m\u001b[33m'\u001b[39m,\n\u001b[32m     83\u001b[39m     parent.meta.service_name,\n\u001b[32m     84\u001b[39m     operation_name,\n\u001b[32m     85\u001b[39m     params,\n\u001b[32m     86\u001b[39m )\n\u001b[32m---> \u001b[39m\u001b[32m88\u001b[39m response = \u001b[38;5;28;43mgetattr\u001b[39;49m\u001b[43m(\u001b[49m\u001b[43mparent\u001b[49m\u001b[43m.\u001b[49m\u001b[43mmeta\u001b[49m\u001b[43m.\u001b[49m\u001b[43mclient\u001b[49m\u001b[43m,\u001b[49m\u001b[43m \u001b[49m\u001b[43moperation_name\u001b[49m\u001b[43m)\u001b[49m\u001b[43m(\u001b[49m\u001b[43m*\u001b[49m\u001b[43margs\u001b[49m\u001b[43m,\u001b[49m\u001b[43m \u001b[49m\u001b[43m*\u001b[49m\u001b[43m*\u001b[49m\u001b[43mparams\u001b[49m\u001b[43m)\u001b[49m\n\u001b[32m     90\u001b[39m logger.debug(\u001b[33m'\u001b[39m\u001b[33mResponse: \u001b[39m\u001b[38;5;132;01m%r\u001b[39;00m\u001b[33m'\u001b[39m, response)\n\u001b[32m     92\u001b[39m \u001b[38;5;28;01mreturn\u001b[39;00m \u001b[38;5;28mself\u001b[39m._response_handler(parent, params, response)\n",
      "\u001b[36mFile \u001b[39m\u001b[32mc:\\Users\\jlai23_ad\\AppData\\Local\\Programs\\Python\\Python313\\Lib\\site-packages\\botocore\\client.py:570\u001b[39m, in \u001b[36mClientCreator._create_api_method.<locals>._api_call\u001b[39m\u001b[34m(self, *args, **kwargs)\u001b[39m\n\u001b[32m    566\u001b[39m     \u001b[38;5;28;01mraise\u001b[39;00m \u001b[38;5;167;01mTypeError\u001b[39;00m(\n\u001b[32m    567\u001b[39m         \u001b[33mf\u001b[39m\u001b[33m\"\u001b[39m\u001b[38;5;132;01m{\u001b[39;00mpy_operation_name\u001b[38;5;132;01m}\u001b[39;00m\u001b[33m() only accepts keyword arguments.\u001b[39m\u001b[33m\"\u001b[39m\n\u001b[32m    568\u001b[39m     )\n\u001b[32m    569\u001b[39m \u001b[38;5;66;03m# The \"self\" in this scope is referring to the BaseClient.\u001b[39;00m\n\u001b[32m--> \u001b[39m\u001b[32m570\u001b[39m \u001b[38;5;28;01mreturn\u001b[39;00m \u001b[38;5;28;43mself\u001b[39;49m\u001b[43m.\u001b[49m\u001b[43m_make_api_call\u001b[49m\u001b[43m(\u001b[49m\u001b[43moperation_name\u001b[49m\u001b[43m,\u001b[49m\u001b[43m \u001b[49m\u001b[43mkwargs\u001b[49m\u001b[43m)\u001b[49m\n",
      "\u001b[36mFile \u001b[39m\u001b[32mc:\\Users\\jlai23_ad\\AppData\\Local\\Programs\\Python\\Python313\\Lib\\site-packages\\botocore\\context.py:124\u001b[39m, in \u001b[36mwith_current_context.<locals>.decorator.<locals>.wrapper\u001b[39m\u001b[34m(*args, **kwargs)\u001b[39m\n\u001b[32m    122\u001b[39m \u001b[38;5;28;01mif\u001b[39;00m hook:\n\u001b[32m    123\u001b[39m     hook()\n\u001b[32m--> \u001b[39m\u001b[32m124\u001b[39m \u001b[38;5;28;01mreturn\u001b[39;00m \u001b[43mfunc\u001b[49m\u001b[43m(\u001b[49m\u001b[43m*\u001b[49m\u001b[43margs\u001b[49m\u001b[43m,\u001b[49m\u001b[43m \u001b[49m\u001b[43m*\u001b[49m\u001b[43m*\u001b[49m\u001b[43mkwargs\u001b[49m\u001b[43m)\u001b[49m\n",
      "\u001b[36mFile \u001b[39m\u001b[32mc:\\Users\\jlai23_ad\\AppData\\Local\\Programs\\Python\\Python313\\Lib\\site-packages\\botocore\\client.py:1031\u001b[39m, in \u001b[36mBaseClient._make_api_call\u001b[39m\u001b[34m(self, operation_name, api_params)\u001b[39m\n\u001b[32m   1027\u001b[39m     error_code = error_info.get(\u001b[33m\"\u001b[39m\u001b[33mQueryErrorCode\u001b[39m\u001b[33m\"\u001b[39m) \u001b[38;5;129;01mor\u001b[39;00m error_info.get(\n\u001b[32m   1028\u001b[39m         \u001b[33m\"\u001b[39m\u001b[33mCode\u001b[39m\u001b[33m\"\u001b[39m\n\u001b[32m   1029\u001b[39m     )\n\u001b[32m   1030\u001b[39m     error_class = \u001b[38;5;28mself\u001b[39m.exceptions.from_code(error_code)\n\u001b[32m-> \u001b[39m\u001b[32m1031\u001b[39m     \u001b[38;5;28;01mraise\u001b[39;00m error_class(parsed_response, operation_name)\n\u001b[32m   1032\u001b[39m \u001b[38;5;28;01melse\u001b[39;00m:\n\u001b[32m   1033\u001b[39m     \u001b[38;5;28;01mreturn\u001b[39;00m parsed_response\n",
      "\u001b[31mClientError\u001b[39m: An error occurred (ValidationException) when calling the CreateTable operation: One or more parameter values were invalid: Number of attributes in KeySchema does not exactly match number of attributes defined in AttributeDefinitions"
     ]
    }
   ],
   "source": [
    "import boto3\n",
    "\n",
    "# 建立 DynamoDB 資源\n",
    "dynamodb = boto3.resource('dynamodb', region_name='us-east-1')\n",
    "\n",
    "# 假設 Partition_Key 和 Sort_Key 都是字串類型\n",
    "Partition_Key = df.columns.tolist()[0]  # 第一欄作為 Partition Key\n",
    "Sort_Key = df.columns.tolist()[1]       # 第二欄作為 Sort Key\n",
    "\n",
    "table = dynamodb.create_table(\n",
    "    TableName='rice_growth_template',\n",
    "    KeySchema=[\n",
    "        {'AttributeName': Partition_Key, 'KeyType': 'HASH'},\n",
    "        {'AttributeName': Sort_Key, 'KeyType': 'RANGE'}\n",
    "    ],\n",
    "    AttributeDefinitions=[\n",
    "        {'AttributeName': Partition_Key, 'AttributeType': 'S'},  \n",
    "        {'AttributeName': Sort_Key, 'AttributeType': 'S'},  \n",
    "        {'AttributeName': df.columns.tolist()[2], 'AttributeType': 'N'},  \n",
    "        {'AttributeName': df.columns.tolist()[3], 'AttributeType': 'N'},  \n",
    "        {'AttributeName': df.columns.tolist()[4], 'AttributeType': 'N'}\n",
    "    ],\n",
    "    ProvisionedThroughput={\n",
    "        'ReadCapacityUnits': 5,\n",
    "        'WriteCapacityUnits': 5\n",
    "    }\n",
    ")\n"
   ]
  }
 ],
 "metadata": {
  "kernelspec": {
   "display_name": "Python 3",
   "language": "python",
   "name": "python3"
  },
  "language_info": {
   "codemirror_mode": {
    "name": "ipython",
    "version": 3
   },
   "file_extension": ".py",
   "mimetype": "text/x-python",
   "name": "python",
   "nbconvert_exporter": "python",
   "pygments_lexer": "ipython3",
   "version": "3.13.2"
  }
 },
 "nbformat": 4,
 "nbformat_minor": 2
}
